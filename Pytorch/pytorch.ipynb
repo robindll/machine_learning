{
 "cells": [
  {
   "cell_type": "markdown",
   "metadata": {},
   "source": [
    "# Pytorch 1.2"
   ]
  },
  {
   "cell_type": "markdown",
   "metadata": {},
   "source": [
    "- Define custom autograd function\n",
    "- Initialize variables on device\n",
    "- Compute backward pass by invoking loss.backward()\n",
    "- Each tensor with require_grad=True will compute grad and saved in .grad property\n",
    "- Subtract grad to get new value : w1 -= learning_rate * w1.grad\n",
    "- **[Important]** CLEAN grad after updated tensor values in backward pass: w1.grad.zero_()"
   ]
  },
  {
   "cell_type": "code",
   "execution_count": 4,
   "metadata": {},
   "outputs": [
    {
     "name": "stdout",
     "output_type": "stream",
     "text": [
      "9999 161.24847412109375\n",
      "19999 154.67312622070312\n",
      "29999 151.6727294921875\n",
      "39999 149.11688232421875\n",
      "49999 146.7808837890625\n",
      "59999 144.655029296875\n",
      "69999 142.64279174804688\n",
      "79999 140.73629760742188\n",
      "89999 138.93685913085938\n",
      "99999 136.53106689453125\n"
     ]
    }
   ],
   "source": [
    "import torch\n",
    "\n",
    "class MyReLU(torch.autograd.Function):\n",
    "    \"\"\"\n",
    "    Define custom function for forward and backward pass\n",
    "    \"\"\"\n",
    "    \n",
    "    @staticmethod\n",
    "    def forward(ctx, input):\n",
    "        \"\"\"\n",
    "        In forward pass, we receive input and return tensor.\n",
    "        ctx is context info for backward pass(?)\n",
    "        ctx.save_for_backward method can be used to store info needed in backward pass.\n",
    "        \"\"\"\n",
    "        ctx.save_for_backward(input)\n",
    "        return input.clamp(min=0)\n",
    "    \n",
    "    @staticmethod\n",
    "    def backward(ctx, grad_output):\n",
    "        \"\"\"\n",
    "        In backward pass, we receive context object and a tensor.\n",
    "        The tensor contains diff to forward pass output.\n",
    "        \"\"\"\n",
    "        input, = ctx.saved_tensors\n",
    "        grad_input = grad_output.clone()\n",
    "        grad_input[input < 0] = 0\n",
    "        return grad_input\n",
    "    \n",
    "    \n",
    "dtype = torch.float\n",
    "device = torch.device(\"cuda\" if torch.cuda.is_available() else \"cpu\")\n",
    "\n",
    "# N    : batch size\n",
    "# D_in : input size\n",
    "# H    : hidden layer size\n",
    "# D_out: output size\n",
    "N, D_in, H, D_out = 64, 1000, 100, 10\n",
    "\n",
    "# Generate random input output tensors\n",
    "x = torch.rand(N, D_in, device=device, dtype=dtype)\n",
    "y = torch.rand(N, D_out, device=device, dtype=dtype)\n",
    "\n",
    "# Generate random weight tensors\n",
    "\n",
    "w1 = torch.randn(D_in, H, device=device, dtype=dtype, requires_grad=True)\n",
    "w2 = torch.randn(H, D_out, device=device, dtype=dtype, requires_grad=True)\n",
    "\n",
    "learning_rate = 1e-6\n",
    "for t in range(100000):\n",
    "    # Invoke our custom function\n",
    "    relu = MyReLU.apply\n",
    "    \n",
    "    # Forward pass\n",
    "    y_pred = relu(x.mm(w1)).mm(w2)\n",
    "    \n",
    "    # Compute loss\n",
    "    loss = (y_pred - y).pow(2).sum()\n",
    "    if t % 10000 == 9999:\n",
    "        print(t, loss.item())\n",
    "        \n",
    "    # Compute backwards using autograd\n",
    "    loss.backward()\n",
    "    \n",
    "    # Update weights with gradients\n",
    "    with torch.no_grad():\n",
    "        w1 -= learning_rate * w1.grad\n",
    "        w2 -= learning_rate * w2.grad\n",
    "        \n",
    "        # Clear gradients after backward pass\n",
    "        w1.grad.zero_()\n",
    "        w2.grad.zero_()"
   ]
  },
  {
   "cell_type": "code",
   "execution_count": null,
   "metadata": {},
   "outputs": [],
   "source": []
  }
 ],
 "metadata": {
  "kernelspec": {
   "display_name": "Python 3",
   "language": "python",
   "name": "python3"
  },
  "language_info": {
   "codemirror_mode": {
    "name": "ipython",
    "version": 3
   },
   "file_extension": ".py",
   "mimetype": "text/x-python",
   "name": "python",
   "nbconvert_exporter": "python",
   "pygments_lexer": "ipython3",
   "version": "3.7.4"
  }
 },
 "nbformat": 4,
 "nbformat_minor": 4
}
